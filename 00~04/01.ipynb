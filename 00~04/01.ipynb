{
 "cells": [
  {
   "cell_type": "markdown",
   "id": "194c0166-b7a4-4bda-baf5-2eb7bbfb9244",
   "metadata": {},
   "source": [
    "01.「パタトクカシーー」\n",
    "\n",
    "「パタトクカシーー」という文字列の1,3,5,7文字目を取り出して連結した文字列を得よ"
   ]
  },
  {
   "cell_type": "code",
   "execution_count": 10,
   "id": "201e61e2-552f-476e-8a75-709265afbcf1",
   "metadata": {
    "tags": []
   },
   "outputs": [],
   "source": [
    "s = 'パタトクカシーー'"
   ]
  },
  {
   "cell_type": "code",
   "execution_count": 11,
   "id": "d504a9b4-9e7b-4c98-adb4-f7923f62272c",
   "metadata": {
    "tags": []
   },
   "outputs": [],
   "source": [
    "s = s[0] + s[2] + s[4] + s[6]"
   ]
  },
  {
   "cell_type": "code",
   "execution_count": 12,
   "id": "b5c4d9ae-07e8-4145-9eb0-1b682defbea9",
   "metadata": {
    "tags": []
   },
   "outputs": [
    {
     "data": {
      "text/plain": [
       "'パトカー'"
      ]
     },
     "execution_count": 12,
     "metadata": {},
     "output_type": "execute_result"
    }
   ],
   "source": [
    "s"
   ]
  },
  {
   "cell_type": "code",
   "execution_count": null,
   "id": "f3491782-e0bd-4ec1-85be-e54b6b7c1e4b",
   "metadata": {},
   "outputs": [],
   "source": []
  }
 ],
 "metadata": {
  "kernelspec": {
   "display_name": "Python 3 (ipykernel)",
   "language": "python",
   "name": "python3"
  },
  "language_info": {
   "codemirror_mode": {
    "name": "ipython",
    "version": 3
   },
   "file_extension": ".py",
   "mimetype": "text/x-python",
   "name": "python",
   "nbconvert_exporter": "python",
   "pygments_lexer": "ipython3",
   "version": "3.8.10"
  }
 },
 "nbformat": 4,
 "nbformat_minor": 5
}
