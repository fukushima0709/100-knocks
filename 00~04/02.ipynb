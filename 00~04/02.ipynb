{
 "cells": [
  {
   "cell_type": "markdown",
   "id": "7bcbdd5d-7de2-42e9-b1ec-ec87d0833de3",
   "metadata": {},
   "source": [
    "02. 「パトカー」＋「タクシー」＝「パタトクカシーー」\n",
    "「パトカー」＋「タクシー」の文字を先頭から交互に連結して文字列「パタトクカシーー」を得よ．"
   ]
  },
  {
   "cell_type": "code",
   "execution_count": 5,
   "id": "0e89e2f8-c92e-497c-964b-5d5267faa969",
   "metadata": {
    "tags": []
   },
   "outputs": [],
   "source": [
    "a = 'パトカー'\n",
    "b = 'タクシー'\n",
    "s = ''"
   ]
  },
  {
   "cell_type": "code",
   "execution_count": 6,
   "id": "278c5eef-c4d8-4298-a12b-4f71bc46a05e",
   "metadata": {
    "tags": []
   },
   "outputs": [],
   "source": [
    "for i in range(0 , len(a)):\n",
    "    s += a[i] + b[i]"
   ]
  },
  {
   "cell_type": "code",
   "execution_count": 7,
   "id": "a50d9f2f-8fd1-44cd-90c3-2ecd568c4bae",
   "metadata": {
    "tags": []
   },
   "outputs": [
    {
     "data": {
      "text/plain": [
       "'パタトクカシーー'"
      ]
     },
     "execution_count": 7,
     "metadata": {},
     "output_type": "execute_result"
    }
   ],
   "source": [
    "s"
   ]
  },
  {
   "cell_type": "code",
   "execution_count": null,
   "id": "abd5c8cc-d006-437d-8382-42816f6c027f",
   "metadata": {},
   "outputs": [],
   "source": []
  }
 ],
 "metadata": {
  "kernelspec": {
   "display_name": "Python 3 (ipykernel)",
   "language": "python",
   "name": "python3"
  },
  "language_info": {
   "codemirror_mode": {
    "name": "ipython",
    "version": 3
   },
   "file_extension": ".py",
   "mimetype": "text/x-python",
   "name": "python",
   "nbconvert_exporter": "python",
   "pygments_lexer": "ipython3",
   "version": "3.8.10"
  }
 },
 "nbformat": 4,
 "nbformat_minor": 5
}
