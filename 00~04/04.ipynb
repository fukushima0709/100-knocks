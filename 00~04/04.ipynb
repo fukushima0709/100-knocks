{
 "cells": [
  {
   "cell_type": "markdown",
   "id": "c8ebc089-2978-433a-b947-e4cb5bc798d0",
   "metadata": {},
   "source": [
    "04. 元素記号Permalink\n",
    "“Hi He Lied Because Boron Could Not Oxidize Fluorine. New Nations Might Also Sign Peace Security Clause. Arthur King Can.”という文を単語に分解し，1, 5, 6, 7, 8, 9, 15, 16, 19番目の単語は先頭の1文字，それ以外の単語は先頭の2文字を取り出し，取り出した文字列から単語の位置（先頭から何番目の単語か）への連想配列（辞書型もしくはマップ型）を作成せよ"
   ]
  },
  {
   "cell_type": "code",
   "execution_count": 1,
   "id": "9266a8d5-0e52-4e85-9dde-b6ea63980d63",
   "metadata": {
    "tags": []
   },
   "outputs": [],
   "source": [
    "text = 'Hi He Lied Because Boron Could Not Oxidize Fluorine. New Nations Might Also Sign Peace Security Clause. Arthur King Can.'"
   ]
  },
  {
   "cell_type": "code",
   "execution_count": 2,
   "id": "8e1817b5-271b-4bc5-a517-c52fe57533c9",
   "metadata": {
    "tags": []
   },
   "outputs": [
    {
     "name": "stderr",
     "output_type": "stream",
     "text": [
      "[nltk_data] Downloading package punkt to /home/i363fuku/nltk_data...\n",
      "[nltk_data]   Package punkt is already up-to-date!\n"
     ]
    }
   ],
   "source": [
    "import nltk\n",
    "nltk.download('punkt')\n",
    "from nltk import word_tokenize"
   ]
  },
  {
   "cell_type": "code",
   "execution_count": 9,
   "id": "e808ccef-80fe-453c-a82e-fda39e0ce92a",
   "metadata": {
    "tags": []
   },
   "outputs": [],
   "source": [
    "new_text = text.replace(\".\", \"\")\n",
    "words = word_tokenize(new_text)\n",
    "\n",
    "dict = {}\n",
    "for i , words in enumerate(words , 1):\n",
    "    if i in [1,5,6,7,8,9,15,16,19]:\n",
    "        dict[words[0]] = i\n",
    "    else:\n",
    "        dict[words[:2]] = i"
   ]
  },
  {
   "cell_type": "code",
   "execution_count": 12,
   "id": "b59fbd9f-e78b-48ab-8fac-a98a80655e37",
   "metadata": {
    "tags": []
   },
   "outputs": [
    {
     "data": {
      "text/plain": [
       "{'H': 1,\n",
       " 'He': 2,\n",
       " 'Li': 3,\n",
       " 'Be': 4,\n",
       " 'B': 5,\n",
       " 'C': 6,\n",
       " 'N': 7,\n",
       " 'O': 8,\n",
       " 'F': 9,\n",
       " 'Ne': 10,\n",
       " 'Na': 11,\n",
       " 'Mi': 12,\n",
       " 'Al': 13,\n",
       " 'Si': 14,\n",
       " 'P': 15,\n",
       " 'S': 16,\n",
       " 'Cl': 17,\n",
       " 'Ar': 18,\n",
       " 'K': 19,\n",
       " 'Ca': 20}"
      ]
     },
     "execution_count": 12,
     "metadata": {},
     "output_type": "execute_result"
    }
   ],
   "source": [
    "dict"
   ]
  },
  {
   "cell_type": "code",
   "execution_count": null,
   "id": "af42a2d5-3996-41fd-8345-0f3ceda4d487",
   "metadata": {},
   "outputs": [],
   "source": []
  }
 ],
 "metadata": {
  "kernelspec": {
   "display_name": "Python 3 (ipykernel)",
   "language": "python",
   "name": "python3"
  },
  "language_info": {
   "codemirror_mode": {
    "name": "ipython",
    "version": 3
   },
   "file_extension": ".py",
   "mimetype": "text/x-python",
   "name": "python",
   "nbconvert_exporter": "python",
   "pygments_lexer": "ipython3",
   "version": "3.8.10"
  }
 },
 "nbformat": 4,
 "nbformat_minor": 5
}
