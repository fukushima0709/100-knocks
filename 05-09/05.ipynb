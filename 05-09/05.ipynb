{
 "cells": [
  {
   "cell_type": "markdown",
   "id": "c76abccd-b2b8-4ed0-9fd0-ee68e1d5aa3a",
   "metadata": {},
   "source": [
    "05. n-gram\n",
    "与えられたシーケンス（文字列やリストなど）からn-gramを作る関数を作成せよ．この関数を用い，”I am an NLPer”という文から単語bi-gram，文字bi-gramを得よ．"
   ]
  },
  {
   "cell_type": "code",
   "execution_count": 6,
   "id": "bce97e08-19d3-482d-8540-03a194c80ec5",
   "metadata": {
    "tags": []
   },
   "outputs": [],
   "source": [
    "def n_gram(text , n):\n",
    "    result_list = []\n",
    "    for i in range(0,len(text) - n + 1):\n",
    "        result_list.append(text[i:i+n])\n",
    "    return result_list\n",
    "\n",
    "text = 'I am an NLPer'\n",
    "str_bi_gram = n_gram(text,2)\n",
    "word_bi_gram = n_gram(text.split(),2)"
   ]
  },
  {
   "cell_type": "code",
   "execution_count": 14,
   "id": "82d2c28c-0460-4b9b-882d-d0460c6845dd",
   "metadata": {
    "tags": []
   },
   "outputs": [
    {
     "name": "stdout",
     "output_type": "stream",
     "text": [
      "文字bi-gram : ['I ', ' a', 'am', 'm ', ' a', 'an', 'n ', ' N', 'NL', 'LP', 'Pe', 'er']\n"
     ]
    }
   ],
   "source": [
    "print(\"文字bi-gram :\" , str_bi_gram)"
   ]
  },
  {
   "cell_type": "code",
   "execution_count": 15,
   "id": "1970e560-cff9-4121-891d-f28a8df551b0",
   "metadata": {
    "tags": []
   },
   "outputs": [
    {
     "name": "stdout",
     "output_type": "stream",
     "text": [
      "単語bi-gram : [['I', 'am'], ['am', 'an'], ['an', 'NLPer']]\n"
     ]
    }
   ],
   "source": [
    "print(\"単語bi-gram :\" , word_bi_gram)"
   ]
  },
  {
   "cell_type": "code",
   "execution_count": null,
   "id": "e4112bea-6a9c-41b4-801b-243c93bb9301",
   "metadata": {},
   "outputs": [],
   "source": []
  }
 ],
 "metadata": {
  "kernelspec": {
   "display_name": "Python 3 (ipykernel)",
   "language": "python",
   "name": "python3"
  },
  "language_info": {
   "codemirror_mode": {
    "name": "ipython",
    "version": 3
   },
   "file_extension": ".py",
   "mimetype": "text/x-python",
   "name": "python",
   "nbconvert_exporter": "python",
   "pygments_lexer": "ipython3",
   "version": "3.8.10"
  }
 },
 "nbformat": 4,
 "nbformat_minor": 5
}
