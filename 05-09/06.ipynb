{
 "cells": [
  {
   "cell_type": "markdown",
   "id": "acb23f94-c84b-449a-b23b-510e2d9c2988",
   "metadata": {},
   "source": [
    "06. 集合\n",
    "“paraparaparadise”と”paragraph”に含まれる文字bi-gramの集合を，それぞれ, XとYとして求め，XとYの和集合，積集合，差集合を求めよ．さらに，’se’というbi-gramがXおよびYに含まれるかどうかを調べよ"
   ]
  },
  {
   "cell_type": "code",
   "execution_count": 1,
   "id": "ae8708ff-52e8-40ae-b1cc-c0ba0688da21",
   "metadata": {
    "tags": []
   },
   "outputs": [],
   "source": [
    "def n_gram(text , n):\n",
    "    result_list = []\n",
    "    for i in range(0,len(text) - n + 1):\n",
    "        result_list.append(text[i:i+n])\n",
    "    return result_list"
   ]
  },
  {
   "cell_type": "code",
   "execution_count": 12,
   "id": "84c039d1-a0e3-449e-939c-e55249f5dbe3",
   "metadata": {
    "tags": []
   },
   "outputs": [],
   "source": [
    "text_1 = 'paraparaparadise'\n",
    "text_2 = 'paragraph'\n",
    "\n",
    "X = set(n_gram(text_1 , 2))\n",
    "Y = set(n_gram(text_2 , 2))"
   ]
  },
  {
   "cell_type": "code",
   "execution_count": 25,
   "id": "9fd0b428-416d-4b0d-bbb9-0a994ebd4fb8",
   "metadata": {
    "tags": []
   },
   "outputs": [
    {
     "name": "stdout",
     "output_type": "stream",
     "text": [
      "和集合 {'ad', 'ar', 'di', 'ra', 'ag', 'is', 'ap', 'gr', 'ph', 'se', 'pa'}\n",
      "積集合 {'pa', 'ar', 'ap', 'ra'}\n",
      "差集合 {'ad', 'is', 'di', 'se'}\n",
      "Xに'se'が含まれるか True\n",
      "Yに'se'が含まれるか False\n"
     ]
    }
   ],
   "source": [
    "print('和集合' , X | Y)\n",
    "print('積集合' , X & Y)\n",
    "print('差集合' , X - Y)\n",
    "print(\"Xに'se'が含まれるか\",'se' in X)\n",
    "print(\"Yに'se'が含まれるか\",'se' in Y)"
   ]
  },
  {
   "cell_type": "code",
   "execution_count": null,
   "id": "3aff7d75-1e0e-4414-960a-5b36222ecf24",
   "metadata": {},
   "outputs": [],
   "source": []
  }
 ],
 "metadata": {
  "kernelspec": {
   "display_name": "Python 3 (ipykernel)",
   "language": "python",
   "name": "python3"
  },
  "language_info": {
   "codemirror_mode": {
    "name": "ipython",
    "version": 3
   },
   "file_extension": ".py",
   "mimetype": "text/x-python",
   "name": "python",
   "nbconvert_exporter": "python",
   "pygments_lexer": "ipython3",
   "version": "3.8.10"
  }
 },
 "nbformat": 4,
 "nbformat_minor": 5
}
