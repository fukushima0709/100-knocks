{
 "cells": [
  {
   "cell_type": "markdown",
   "id": "c30bc866-90de-4561-b451-71ac740a55d8",
   "metadata": {},
   "source": [
    "08. 暗号文Permalink\n",
    "与えられた文字列の各文字を，以下の仕様で変換する関数cipherを実装せよ．\n",
    "\n",
    "英小文字ならば(219 - 文字コード)の文字に置換\n",
    "その他の文字はそのまま出力\n",
    "この関数を用い，英語のメッセージを暗号化・復号化せよ"
   ]
  },
  {
   "cell_type": "code",
   "execution_count": 3,
   "id": "4ccf808c-2152-43d8-bea1-683622e99831",
   "metadata": {
    "tags": []
   },
   "outputs": [],
   "source": [
    "def cipher(words):\n",
    "    ans = ''\n",
    "    for word in words:\n",
    "        if word.islower():\n",
    "            ans += chr(219 - ord(word))\n",
    "        else:\n",
    "            ans += word\n",
    "    return ans"
   ]
  },
  {
   "cell_type": "code",
   "execution_count": 4,
   "id": "9bbc56d3-791f-4d89-8e02-e5d29767f104",
   "metadata": {
    "tags": []
   },
   "outputs": [
    {
     "data": {
      "text/plain": [
       "'I orpv zm zkkov'"
      ]
     },
     "execution_count": 4,
     "metadata": {},
     "output_type": "execute_result"
    }
   ],
   "source": [
    "cipher('I like an apple')"
   ]
  },
  {
   "cell_type": "code",
   "execution_count": 5,
   "id": "5de487fb-6a45-401b-904f-b79eb5727ca5",
   "metadata": {
    "tags": []
   },
   "outputs": [
    {
     "data": {
      "text/plain": [
       "'I like an apple'"
      ]
     },
     "execution_count": 5,
     "metadata": {},
     "output_type": "execute_result"
    }
   ],
   "source": [
    "cipher('I orpv zm zkkov')"
   ]
  },
  {
   "cell_type": "code",
   "execution_count": null,
   "id": "2dbda452-1b55-4316-a419-f570ff8d7948",
   "metadata": {},
   "outputs": [],
   "source": []
  }
 ],
 "metadata": {
  "kernelspec": {
   "display_name": "Python 3 (ipykernel)",
   "language": "python",
   "name": "python3"
  },
  "language_info": {
   "codemirror_mode": {
    "name": "ipython",
    "version": 3
   },
   "file_extension": ".py",
   "mimetype": "text/x-python",
   "name": "python",
   "nbconvert_exporter": "python",
   "pygments_lexer": "ipython3",
   "version": "3.8.10"
  }
 },
 "nbformat": 4,
 "nbformat_minor": 5
}
