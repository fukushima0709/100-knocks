{
 "cells": [
  {
   "cell_type": "markdown",
   "id": "6ee74a60-261b-4c83-bad7-53c7d6443e51",
   "metadata": {},
   "source": [
    "09. Typoglycemia\n",
    "スペースで区切られた単語列に対して，各単語の先頭と末尾の文字は残し，それ以外の文字の順序をランダムに並び替えるプログラムを作成せよ．ただし，長さが４以下の単語は並び替えないこととする．適当な英語の文（例えば”I couldn’t believe that I could actually understand what I was reading : the phenomenal power of the human mind .”）を与え，その実行結果を確認せよ"
   ]
  },
  {
   "cell_type": "code",
   "execution_count": 20,
   "id": "4117316b-295f-434c-9140-2007b384b590",
   "metadata": {
    "tags": []
   },
   "outputs": [
    {
     "data": {
      "text/plain": [
       "'I cnlod’ut bvielee that I could aalltcuy uterndsand what I was raideng : the pmhanenoel pwoer of the human mind .'"
      ]
     },
     "execution_count": 20,
     "metadata": {},
     "output_type": "execute_result"
    }
   ],
   "source": [
    "import random\n",
    "\n",
    "def shuffle(text):\n",
    "    ans = []\n",
    "    words = text.split()\n",
    "    for word in words:\n",
    "        if len(word) > 4:\n",
    "            tmp = list(word[1:-1])\n",
    "            random.shuffle(tmp)\n",
    "            word = word[0] + ''.join(tmp) + word[-1]\n",
    "            ans.append(word)\n",
    "        else:\n",
    "            ans.append(word)\n",
    "    return ' '.join(ans)\n",
    "            \n",
    "            \n",
    "\n",
    "text = 'I couldn’t believe that I could actually understand what I was reading : the phenomenal power of the human mind .'\n",
    "\n",
    "random_text = shuffle(text)\n",
    "random_text"
   ]
  },
  {
   "cell_type": "code",
   "execution_count": null,
   "id": "509f5f5f-709f-423a-88bf-9c52fc441843",
   "metadata": {},
   "outputs": [],
   "source": []
  }
 ],
 "metadata": {
  "kernelspec": {
   "display_name": "Python 3 (ipykernel)",
   "language": "python",
   "name": "python3"
  },
  "language_info": {
   "codemirror_mode": {
    "name": "ipython",
    "version": 3
   },
   "file_extension": ".py",
   "mimetype": "text/x-python",
   "name": "python",
   "nbconvert_exporter": "python",
   "pygments_lexer": "ipython3",
   "version": "3.8.10"
  }
 },
 "nbformat": 4,
 "nbformat_minor": 5
}
