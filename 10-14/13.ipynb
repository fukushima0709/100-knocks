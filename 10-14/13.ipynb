{
 "cells": [
  {
   "cell_type": "markdown",
   "id": "1c537b7c-d028-407d-9de5-aaf7a3eb89a2",
   "metadata": {},
   "source": [
    "#### 13. col1.txtとcol2.txtをマージ\n",
    "#### 12で作ったcol1.txtとcol2.txtを結合し，元のファイルの1列目と2列目をタブ区切りで並べたテキストファイルを作成せよ．確認にはpasteコマンドを用いよ．"
   ]
  },
  {
   "cell_type": "code",
   "execution_count": 16,
   "id": "6203464e-039f-4261-9ae0-40bbda96a790",
   "metadata": {
    "tags": []
   },
   "outputs": [],
   "source": [
    "import pandas as pd\n",
    "df = pd.read_table(\"popular-names.txt\", header=None)"
   ]
  },
  {
   "cell_type": "code",
   "execution_count": 17,
   "id": "7e365eb7-3e14-43f8-912f-2d82b7b8266e",
   "metadata": {
    "tags": []
   },
   "outputs": [],
   "source": [
    "a = pd.read_csv(\"col1.txt\",header=None)\n",
    "b = pd.read_csv(\"col2.txt\",header=None)"
   ]
  },
  {
   "cell_type": "code",
   "execution_count": 23,
   "id": "68a685d7-f84c-485a-bc8f-53fd1799f0e4",
   "metadata": {
    "tags": []
   },
   "outputs": [],
   "source": [
    "col_mix = pd.concat([a,b],axis=1)"
   ]
  },
  {
   "cell_type": "code",
   "execution_count": 24,
   "id": "25935a5c-c79b-446b-aefe-32f512a2321f",
   "metadata": {
    "tags": []
   },
   "outputs": [],
   "source": [
    "col_mix.to_csv(\"col1&2.txt\",sep=\"\\t\",header=False,index=False)"
   ]
  },
  {
   "cell_type": "code",
   "execution_count": null,
   "id": "da2007ef-b477-4a5e-9470-3c3dd1f35467",
   "metadata": {},
   "outputs": [],
   "source": []
  }
 ],
 "metadata": {
  "kernelspec": {
   "display_name": "Python 3 (ipykernel)",
   "language": "python",
   "name": "python3"
  },
  "language_info": {
   "codemirror_mode": {
    "name": "ipython",
    "version": 3
   },
   "file_extension": ".py",
   "mimetype": "text/x-python",
   "name": "python",
   "nbconvert_exporter": "python",
   "pygments_lexer": "ipython3",
   "version": "3.8.10"
  }
 },
 "nbformat": 4,
 "nbformat_minor": 5
}
