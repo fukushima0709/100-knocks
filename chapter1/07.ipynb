{
 "cells": [
  {
   "cell_type": "markdown",
   "id": "bac8d247-d6e6-4c64-bbb4-4e949c0e1806",
   "metadata": {},
   "source": [
    "07. テンプレートによる文生成\n",
    "引数x, y, zを受け取り「x時のyはz」という文字列を返す関数を実装せよ．さらに，x=12, y=”気温”, z=22.4として，実行結果を確認せよ"
   ]
  },
  {
   "cell_type": "code",
   "execution_count": 3,
   "id": "4d7cf807-9629-4f16-a51b-3c7278d41c78",
   "metadata": {
    "tags": []
   },
   "outputs": [
    {
     "name": "stdout",
     "output_type": "stream",
     "text": [
      "12 時の 気温 は 22.4\n"
     ]
    }
   ],
   "source": [
    "def output_sentence(x,y,z):\n",
    "    print(x,'時の',y,'は',z)\n",
    "    \n",
    "output_sentence(12,\"気温\",22.4)"
   ]
  },
  {
   "cell_type": "code",
   "execution_count": null,
   "id": "c2b06c21-731c-47d3-9c46-942031494b8a",
   "metadata": {},
   "outputs": [],
   "source": []
  }
 ],
 "metadata": {
  "kernelspec": {
   "display_name": "Python 3 (ipykernel)",
   "language": "python",
   "name": "python3"
  },
  "language_info": {
   "codemirror_mode": {
    "name": "ipython",
    "version": 3
   },
   "file_extension": ".py",
   "mimetype": "text/x-python",
   "name": "python",
   "nbconvert_exporter": "python",
   "pygments_lexer": "ipython3",
   "version": "3.8.10"
  }
 },
 "nbformat": 4,
 "nbformat_minor": 5
}
