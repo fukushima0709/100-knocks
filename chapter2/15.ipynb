{
 "cells": [
  {
   "cell_type": "code",
   "execution_count": 1,
   "id": "34193db0-bd8d-4312-b199-d054ed52e0ff",
   "metadata": {},
   "outputs": [],
   "source": [
    "import pandas as pd\n",
    "\n",
    "df = pd.read_table(\"popular-names.txt\", header=None)"
   ]
  },
  {
   "cell_type": "code",
   "execution_count": 3,
   "id": "b0ad3053-98ee-4d2a-ab1a-3ae4dce576d7",
   "metadata": {
    "tags": []
   },
   "outputs": [
    {
     "data": {
      "text/html": [
       "<div>\n",
       "<style scoped>\n",
       "    .dataframe tbody tr th:only-of-type {\n",
       "        vertical-align: middle;\n",
       "    }\n",
       "\n",
       "    .dataframe tbody tr th {\n",
       "        vertical-align: top;\n",
       "    }\n",
       "\n",
       "    .dataframe thead th {\n",
       "        text-align: right;\n",
       "    }\n",
       "</style>\n",
       "<table border=\"1\" class=\"dataframe\">\n",
       "  <thead>\n",
       "    <tr style=\"text-align: right;\">\n",
       "      <th></th>\n",
       "      <th>0</th>\n",
       "      <th>1</th>\n",
       "      <th>2</th>\n",
       "      <th>3</th>\n",
       "    </tr>\n",
       "  </thead>\n",
       "  <tbody>\n",
       "    <tr>\n",
       "      <th>2770</th>\n",
       "      <td>Liam</td>\n",
       "      <td>M</td>\n",
       "      <td>19837</td>\n",
       "      <td>2018</td>\n",
       "    </tr>\n",
       "    <tr>\n",
       "      <th>2771</th>\n",
       "      <td>Noah</td>\n",
       "      <td>M</td>\n",
       "      <td>18267</td>\n",
       "      <td>2018</td>\n",
       "    </tr>\n",
       "    <tr>\n",
       "      <th>2772</th>\n",
       "      <td>William</td>\n",
       "      <td>M</td>\n",
       "      <td>14516</td>\n",
       "      <td>2018</td>\n",
       "    </tr>\n",
       "    <tr>\n",
       "      <th>2773</th>\n",
       "      <td>James</td>\n",
       "      <td>M</td>\n",
       "      <td>13525</td>\n",
       "      <td>2018</td>\n",
       "    </tr>\n",
       "    <tr>\n",
       "      <th>2774</th>\n",
       "      <td>Oliver</td>\n",
       "      <td>M</td>\n",
       "      <td>13389</td>\n",
       "      <td>2018</td>\n",
       "    </tr>\n",
       "    <tr>\n",
       "      <th>2775</th>\n",
       "      <td>Benjamin</td>\n",
       "      <td>M</td>\n",
       "      <td>13381</td>\n",
       "      <td>2018</td>\n",
       "    </tr>\n",
       "    <tr>\n",
       "      <th>2776</th>\n",
       "      <td>Elijah</td>\n",
       "      <td>M</td>\n",
       "      <td>12886</td>\n",
       "      <td>2018</td>\n",
       "    </tr>\n",
       "    <tr>\n",
       "      <th>2777</th>\n",
       "      <td>Lucas</td>\n",
       "      <td>M</td>\n",
       "      <td>12585</td>\n",
       "      <td>2018</td>\n",
       "    </tr>\n",
       "    <tr>\n",
       "      <th>2778</th>\n",
       "      <td>Mason</td>\n",
       "      <td>M</td>\n",
       "      <td>12435</td>\n",
       "      <td>2018</td>\n",
       "    </tr>\n",
       "    <tr>\n",
       "      <th>2779</th>\n",
       "      <td>Logan</td>\n",
       "      <td>M</td>\n",
       "      <td>12352</td>\n",
       "      <td>2018</td>\n",
       "    </tr>\n",
       "  </tbody>\n",
       "</table>\n",
       "</div>"
      ],
      "text/plain": [
       "             0  1      2     3\n",
       "2770      Liam  M  19837  2018\n",
       "2771      Noah  M  18267  2018\n",
       "2772   William  M  14516  2018\n",
       "2773     James  M  13525  2018\n",
       "2774    Oliver  M  13389  2018\n",
       "2775  Benjamin  M  13381  2018\n",
       "2776    Elijah  M  12886  2018\n",
       "2777     Lucas  M  12585  2018\n",
       "2778     Mason  M  12435  2018\n",
       "2779     Logan  M  12352  2018"
      ]
     },
     "execution_count": 3,
     "metadata": {},
     "output_type": "execute_result"
    }
   ],
   "source": [
    "ｄｆ.tail(10)"
   ]
  },
  {
   "cell_type": "code",
   "execution_count": 4,
   "id": "93663fff-d8ff-42b3-a0e5-6b9a1728aca9",
   "metadata": {
    "tags": []
   },
   "outputs": [
    {
     "name": "stdout",
     "output_type": "stream",
     "text": [
      "Liam\tM\t19837\t2018\n",
      "Noah\tM\t18267\t2018\n",
      "William\tM\t14516\t2018\n",
      "James\tM\t13525\t2018\n",
      "Oliver\tM\t13389\t2018\n",
      "Benjamin\tM\t13381\t2018\n",
      "Elijah\tM\t12886\t2018\n",
      "Lucas\tM\t12585\t2018\n",
      "Mason\tM\t12435\t2018\n",
      "Logan\tM\t12352\t2018\n"
     ]
    }
   ],
   "source": [
    "!tail -n 10 popular-names.txt"
   ]
  },
  {
   "cell_type": "code",
   "execution_count": null,
   "id": "86d7113e-996b-4b22-a3ff-b2c145c866ed",
   "metadata": {},
   "outputs": [],
   "source": []
  }
 ],
 "metadata": {
  "kernelspec": {
   "display_name": "Python 3 (ipykernel)",
   "language": "python",
   "name": "python3"
  },
  "language_info": {
   "codemirror_mode": {
    "name": "ipython",
    "version": 3
   },
   "file_extension": ".py",
   "mimetype": "text/x-python",
   "name": "python",
   "nbconvert_exporter": "python",
   "pygments_lexer": "ipython3",
   "version": "3.8.10"
  }
 },
 "nbformat": 4,
 "nbformat_minor": 5
}
