{
 "cells": [
  {
   "cell_type": "code",
   "execution_count": 1,
   "id": "203d1ce1-a0da-4c7c-9937-e23fcdea7837",
   "metadata": {
    "tags": []
   },
   "outputs": [],
   "source": [
    "import pandas as pd\n",
    "\n",
    "df = pd.read_table(\"popular-names.txt\", header=None)"
   ]
  },
  {
   "cell_type": "code",
   "execution_count": 2,
   "id": "c71ebb0c-a0cf-48ed-aeb0-949cd90e0d7b",
   "metadata": {
    "tags": []
   },
   "outputs": [
    {
     "name": "stdout",
     "output_type": "stream",
     "text": [
      "{'Rebecca', 'Helen', 'Donald', 'William', 'Laura', 'Liam', 'Melissa', 'Joshua', 'Bertha', 'Frank', 'Ronald', 'Deborah', 'Nancy', 'Margaret', 'Hannah', 'David', 'Cynthia', 'Linda', 'Michelle', 'George', 'Andrew', 'Lauren', 'Alice', 'Judith', 'Ashley', 'Austin', 'Isabella', 'Shirley', 'Jason', 'James', 'Noah', 'Amanda', 'Sharon', 'Susan', 'Mia', 'Larry', 'Elijah', 'Rachel', 'Carol', 'Megan', 'Mary', 'Marie', 'Ethel', 'Ava', 'Mason', 'Jayden', 'Tammy', 'Doris', 'Amelia', 'Daniel', 'Lori', 'Julie', 'Mildred', 'Madison', 'Jeffrey', 'Robert', 'Alexis', 'Patricia', 'Stephanie', 'Gary', 'Sarah', 'Oliver', 'Thomas', 'Barbara', 'Dorothy', 'Tracy', 'Donna', 'Amy', 'Michael', 'Debra', 'Lucas', 'Kelly', 'Carolyn', 'Charlotte', 'Ruth', 'Anna', 'Nicole', 'Samantha', 'Lisa', 'Walter', 'Ida', 'Edward', 'Clara', 'Sandra', 'Jessica', 'Mark', 'Pamela', 'Brandon', 'Harper', 'Annie', 'Steven', 'Chloe', 'Joan', 'Henry', 'Heather', 'Jacob', 'Abigail', 'Florence', 'Betty', 'Matthew', 'Emily', 'Logan', 'Richard', 'Karen', 'Kimberly', 'Minnie', 'Angela', 'Alexander', 'Joseph', 'Lillian', 'Crystal', 'Anthony', 'Elizabeth', 'Emma', 'Nicholas', 'Sophia', 'Jennifer', 'Ethan', 'Kathleen', 'Christopher', 'Evelyn', 'Benjamin', 'Frances', 'Virginia', 'Taylor', 'Charles', 'Olivia', 'Brittany', 'Justin', 'Bessie', 'Scott', 'Aiden', 'Brian', 'Harry', 'John', 'Tyler'}\n"
     ]
    }
   ],
   "source": [
    "print(set(df.iloc[:,0]))"
   ]
  },
  {
   "cell_type": "code",
   "execution_count": 3,
   "id": "34e0a8dd-80eb-49ca-97e3-e137e4b14417",
   "metadata": {
    "tags": []
   },
   "outputs": [
    {
     "name": "stdout",
     "output_type": "stream",
     "text": [
      "Abigail\n",
      "Aiden\n",
      "Alexander\n",
      "Alexis\n",
      "Alice\n",
      "Amanda\n",
      "Amelia\n",
      "Amy\n",
      "Andrew\n",
      "Angela\n",
      "Anna\n",
      "Annie\n",
      "Anthony\n",
      "Ashley\n",
      "Austin\n",
      "Ava\n",
      "Barbara\n",
      "Benjamin\n",
      "Bertha\n",
      "Bessie\n",
      "Betty\n",
      "Brandon\n",
      "Brian\n",
      "Brittany\n",
      "Carol\n",
      "Carolyn\n",
      "Charles\n",
      "Charlotte\n",
      "Chloe\n",
      "Christopher\n",
      "Clara\n",
      "Crystal\n",
      "Cynthia\n",
      "Daniel\n",
      "David\n",
      "Deborah\n",
      "Debra\n",
      "Donald\n",
      "Donna\n",
      "Doris\n",
      "Dorothy\n",
      "Edward\n",
      "Elijah\n",
      "Elizabeth\n",
      "Emily\n",
      "Emma\n",
      "Ethan\n",
      "Ethel\n",
      "Evelyn\n",
      "Florence\n",
      "Frances\n",
      "Frank\n",
      "Gary\n",
      "George\n",
      "Hannah\n",
      "Harper\n",
      "Harry\n",
      "Heather\n",
      "Helen\n",
      "Henry\n",
      "Ida\n",
      "Isabella\n",
      "Jacob\n",
      "James\n",
      "Jason\n",
      "Jayden\n",
      "Jeffrey\n",
      "Jennifer\n",
      "Jessica\n",
      "Joan\n",
      "John\n",
      "Joseph\n",
      "Joshua\n",
      "Judith\n",
      "Julie\n",
      "Justin\n",
      "Karen\n",
      "Kathleen\n",
      "Kelly\n",
      "Kimberly\n",
      "Larry\n",
      "Laura\n",
      "Lauren\n",
      "Liam\n",
      "Lillian\n",
      "Linda\n",
      "Lisa\n",
      "Logan\n",
      "Lori\n",
      "Lucas\n",
      "Madison\n",
      "Margaret\n",
      "Marie\n",
      "Mark\n",
      "Mary\n",
      "Mason\n",
      "Matthew\n",
      "Megan\n",
      "Melissa\n",
      "Mia\n",
      "Michael\n",
      "Michelle\n",
      "Mildred\n",
      "Minnie\n",
      "Nancy\n",
      "Nicholas\n",
      "Nicole\n",
      "Noah\n",
      "Oliver\n",
      "Olivia\n",
      "Pamela\n",
      "Patricia\n",
      "Rachel\n",
      "Rebecca\n",
      "Richard\n",
      "Robert\n",
      "Ronald\n",
      "Ruth\n",
      "Samantha\n",
      "Sandra\n",
      "Sarah\n",
      "Scott\n",
      "Sharon\n",
      "Shirley\n",
      "Sophia\n",
      "Stephanie\n",
      "Steven\n",
      "Susan\n",
      "Tammy\n",
      "Taylor\n",
      "Thomas\n",
      "Tracy\n",
      "Tyler\n",
      "Virginia\n",
      "Walter\n",
      "William\n"
     ]
    }
   ],
   "source": [
    "!cut -f 1 popular-names.txt | sort | uniq"
   ]
  },
  {
   "cell_type": "code",
   "execution_count": null,
   "id": "fe5d4524-882c-42d3-8411-4ae8136c7745",
   "metadata": {},
   "outputs": [],
   "source": []
  }
 ],
 "metadata": {
  "kernelspec": {
   "display_name": "Python 3 (ipykernel)",
   "language": "python",
   "name": "python3"
  },
  "language_info": {
   "codemirror_mode": {
    "name": "ipython",
    "version": 3
   },
   "file_extension": ".py",
   "mimetype": "text/x-python",
   "name": "python",
   "nbconvert_exporter": "python",
   "pygments_lexer": "ipython3",
   "version": "3.8.10"
  }
 },
 "nbformat": 4,
 "nbformat_minor": 5
}
