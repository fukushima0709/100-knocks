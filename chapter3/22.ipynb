{
 "cells": [
  {
   "cell_type": "code",
   "execution_count": 3,
   "id": "0b4d3df2-f548-4060-a39c-831812a38710",
   "metadata": {},
   "outputs": [],
   "source": [
    "import pandas as pd\n",
    "import re\n",
    "\n",
    "filename = \"jawiki-country.json\"\n",
    "df = pd.read_json(filename, lines=True)\n",
    "en_df = df[df[\"title\"]==\"イギリス\"]\n",
    "en_df = en_df[\"text\"].values"
   ]
  },
  {
   "cell_type": "code",
   "execution_count": 4,
   "id": "a387281a-f45a-47c4-a078-b7d1a9b6563f",
   "metadata": {
    "tags": []
   },
   "outputs": [
    {
     "name": "stdout",
     "output_type": "stream",
     "text": [
      "{{Sisterlinks|commons=United Kingdom|commonscat=United Kingdom|s=Category:イギリス|n=Category:イギリス|voy=United Kingdom}}\n",
      "イギリス\n",
      "イギリス連邦加盟国\n",
      "英連邦王国\n",
      "G8加盟国\n",
      "欧州連合加盟国|元\n",
      "海洋国家\n",
      "現存する君主国\n",
      "島国\n",
      "1801年に成立した国家・領域\n"
     ]
    }
   ],
   "source": [
    "for text in en_df[0].split(\"\\n\"):\n",
    "    if re.search(\"Category\", text):\n",
    "        text = text.replace(\"[[Category:\", \"\").replace(\"|*]]\", \"\").replace(\"]]\", \"\")\n",
    "        print(text)"
   ]
  },
  {
   "cell_type": "code",
   "execution_count": null,
   "id": "f73a878b-13e0-4e73-a4da-cfceea52eea7",
   "metadata": {},
   "outputs": [],
   "source": []
  }
 ],
 "metadata": {
  "kernelspec": {
   "display_name": "Python 3 (ipykernel)",
   "language": "python",
   "name": "python3"
  },
  "language_info": {
   "codemirror_mode": {
    "name": "ipython",
    "version": 3
   },
   "file_extension": ".py",
   "mimetype": "text/x-python",
   "name": "python",
   "nbconvert_exporter": "python",
   "pygments_lexer": "ipython3",
   "version": "3.8.10"
  }
 },
 "nbformat": 4,
 "nbformat_minor": 5
}
